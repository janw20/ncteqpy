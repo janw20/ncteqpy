version https://git-lfs.github.com/spec/v1
oid sha256:0f21b976eecb1a018e7fe25d0708b2b146dcd2dfeb4fc00f76339a22535baa75
size 43040
