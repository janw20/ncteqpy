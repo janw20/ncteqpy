version https://git-lfs.github.com/spec/v1
oid sha256:090ae87621c515efedc80805594c6219a75dd72ca160bd4162236690b3e147d2
size 144007
